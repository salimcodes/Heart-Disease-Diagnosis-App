{
 "cells": [
  {
   "cell_type": "code",
   "execution_count": 11,
   "metadata": {},
   "outputs": [
    {
     "name": "stdout",
     "output_type": "stream",
     "text": [
      "0.7540983606557377\n"
     ]
    }
   ],
   "source": [
    "import numpy as np\n",
    "import pandas as pd\n",
    "import matplotlib as plt\n",
    "import seaborn as sns\n",
    "%matplotlib inline\n",
    "salim = pd.read_csv(r\"C:\\Users\\OYINLOLA SALIM O\\Desktop\\ML Codes\\Heart Disease Diagnosis\\HeartDiseases.csv\")\n",
    "X= salim.iloc[:,:-1].values\n",
    "y= salim.iloc[:,13].values\n",
    "\n",
    "# Encoding categorical data\n",
    "import sklearn\n",
    "from sklearn.preprocessing import LabelEncoder, OneHotEncoder\n",
    "labelencoder = LabelEncoder()\n",
    "X[:,12]= labelencoder.fit_transform(X[:,12])\n",
    "#Splitting the dataset into the Training set and Test Set\n",
    "from sklearn.model_selection import train_test_split\n",
    "X_train, X_test, y_train, y_test = train_test_split(X,y, random_state = 1, test_size = 0.20)\n",
    "#print(X_test.shape)\n",
    "#Scaling dataset\n",
    "from sklearn import preprocessing\n",
    "#X_scaled = preprocessing.scale(X_train)\n",
    "#X_test1 = preprocessing.scale(X_test)\n",
    " \n",
    "#Fitting multiple logistic regression to the training set\n",
    "from sklearn.ensemble import RandomForestClassifier\n",
    "s = RandomForestClassifier()\n",
    "s.fit(X_train, y_train)\n",
    "y_pred = s.predict(X_train)\n",
    "score = s.score(X_test,y_test)\n",
    "print(score)\n"
   ]
  },
  {
   "cell_type": "code",
   "execution_count": null,
   "metadata": {},
   "outputs": [],
   "source": []
  },
  {
   "cell_type": "code",
   "execution_count": null,
   "metadata": {},
   "outputs": [],
   "source": []
  }
 ],
 "metadata": {
  "kernelspec": {
   "display_name": "Python 3",
   "language": "python",
   "name": "python3"
  },
  "language_info": {
   "codemirror_mode": {
    "name": "ipython",
    "version": 3
   },
   "file_extension": ".py",
   "mimetype": "text/x-python",
   "name": "python",
   "nbconvert_exporter": "python",
   "pygments_lexer": "ipython3",
   "version": "3.8.3"
  }
 },
 "nbformat": 4,
 "nbformat_minor": 4
}
