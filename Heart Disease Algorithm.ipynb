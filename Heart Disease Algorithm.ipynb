{
 "cells": [
  {
   "cell_type": "code",
   "execution_count": 4,
   "metadata": {},
   "outputs": [
    {
     "data": {
      "text/plain": [
       "RandomForestClassifier()"
      ]
     },
     "execution_count": 4,
     "metadata": {},
     "output_type": "execute_result"
    }
   ],
   "source": [
    "import numpy as np\n",
    "import pandas as pd\n",
    "import matplotlib as plt\n",
    "import seaborn as sns\n",
    "%matplotlib inline\n",
    "salim = pd.read_csv(r\"C:\\Users\\OYINLOLA SALIM O\\Desktop\\ML Codes\\Heart Disease Diagnosis\\HeartDiseases.csv\")\n",
    "X= salim.iloc[:,:-1].values\n",
    "y= salim.iloc[:,13].values\n",
    "\n",
    "# Encoding categorical data\n",
    "import sklearn\n",
    "from sklearn.preprocessing import LabelEncoder, OneHotEncoder\n",
    "labelencoder = LabelEncoder()\n",
    "X[:,12]= labelencoder.fit_transform(X[:,12])\n",
    "#Splitting the dataset into the Training set and Test Set\n",
    "from sklearn.model_selection import train_test_split\n",
    "X_train, X_test, y_train, y_test = train_test_split(X,y, random_state = 1, test_size = 0.20)\n",
    "#print(X_test.shape)\n",
    "#Scaling dataset\n",
    "from sklearn import preprocessing\n",
    "#X_scaled = preprocessing.scale(X_train)\n",
    "#X_test1 = preprocessing.scale(X_test)\n",
    " \n",
    "#Fitting multiple logistic regression to the training set\n",
    "from sklearn.ensemble import RandomForestClassifier\n",
    "smodel = RandomForestClassifier()\n",
    "smodel.fit(X_train, y_train)\n",
    "y_pred = s.predict(X_test)\n",
    "from sklearn.metrics import accuracy_score\n",
    "accuracy_score(y_test, y_pred)\n",
    "#Save Model\n",
    "import pickle\n",
    "with open('Heart Disease Algorithm.pkl','wb') as f:\n",
    "    pickle.dump(smodel, f)\n",
    "with open('Heart Disease Algorithm.pkl','rb') as f:\n",
    "    smodel_loaded = pickle.load(f)\n",
    "smodel_loaded"
   ]
  },
  {
   "cell_type": "code",
   "execution_count": null,
   "metadata": {},
   "outputs": [],
   "source": []
  },
  {
   "cell_type": "code",
   "execution_count": null,
   "metadata": {},
   "outputs": [],
   "source": []
  }
 ],
 "metadata": {
  "kernelspec": {
   "display_name": "Python 3",
   "language": "python",
   "name": "python3"
  },
  "language_info": {
   "codemirror_mode": {
    "name": "ipython",
    "version": 3
   },
   "file_extension": ".py",
   "mimetype": "text/x-python",
   "name": "python",
   "nbconvert_exporter": "python",
   "pygments_lexer": "ipython3",
   "version": "3.8.3"
  }
 },
 "nbformat": 4,
 "nbformat_minor": 4
}
